{
 "cells": [
  {
   "cell_type": "code",
   "execution_count": 4,
   "id": "7c64658c-2c1e-43f0-bf1d-97ec3ae623eb",
   "metadata": {},
   "outputs": [
    {
     "name": "stdout",
     "output_type": "stream",
     "text": [
      "2\n",
      "4\n",
      "6\n",
      "8\n",
      "10\n",
      "12\n",
      "14\n",
      "16\n",
      "18\n",
      "20\n"
     ]
    }
   ],
   "source": [
    "# Q1. Explain with an example each when to use a for loop and a while loop.\n",
    "# in python 'for loop' is designed to process the elements in any sequence (such as list or string) one by one \n",
    "\n",
    "\n",
    "for i in range(1,11):\n",
    "    print(2*i)"
   ]
  },
  {
   "cell_type": "code",
   "execution_count": 14,
   "id": "64913676-461b-4b06-82eb-130bb14a1fa1",
   "metadata": {
    "tags": []
   },
   "outputs": [
    {
     "name": "stdin",
     "output_type": "stream",
     "text": [
      "enter a number 6\n"
     ]
    },
    {
     "name": "stdout",
     "output_type": "stream",
     "text": [
      "factorial of given number is 720\n"
     ]
    }
   ],
   "source": [
    "# while loop is a conditional loop which is used to repeat a set of instructions until a condition is true\n",
    "n=int(input(\"enter a number\"))\n",
    "fact= n\n",
    "while n>1:\n",
    "         fact=fact*(n-1)\n",
    "         n=n-1\n",
    "print (\"factorial of given number is\", fact)    \n",
    "\n",
    "\n"
   ]
  },
  {
   "cell_type": "code",
   "execution_count": 18,
   "id": "968b7419-0d5a-4f70-a592-eee587aabcd3",
   "metadata": {},
   "outputs": [
    {
     "name": "stdout",
     "output_type": "stream",
     "text": [
      "sum of first 10 natural numbers 55\n",
      "product of first 10 natural numbers 3628800\n"
     ]
    }
   ],
   "source": [
    "#Q2. Write a python program to print the sum and product of the first 10 natural numbers using for and while loop.\n",
    "sum=0\n",
    "product=1\n",
    "for i in range(1,11):\n",
    "        sum=sum+i\n",
    "        product=product*i\n",
    "print(\"sum of first 10 natural numbers\",sum)\n",
    "print(\"product of first 10 natural numbers\",product)\n",
    "\n"
   ]
  },
  {
   "cell_type": "code",
   "execution_count": 2,
   "id": "5a0eb693-4b7c-4257-83fa-a4eef72d7bc2",
   "metadata": {},
   "outputs": [
    {
     "name": "stdout",
     "output_type": "stream",
     "text": [
      "sum of first 10 natural numbers 55\n",
      "sum of first 10 natural numbers 3628800\n"
     ]
    }
   ],
   "source": [
    "sum2=0\n",
    "product2=1\n",
    "i=1\n",
    "while(i<=10):\n",
    "    sum2=sum2+i\n",
    "    product2=product2*i\n",
    "    i=i+1\n",
    "print(\"sum of first 10 natural numbers\",sum2)\n",
    "print(\"sum of first 10 natural numbers\",product2)\n"
   ]
  },
  {
   "cell_type": "code",
   "execution_count": null,
   "id": "beccb0b3-c1bc-4eeb-9fd2-2bac24150b2f",
   "metadata": {
    "collapsed": true,
    "jupyter": {
     "outputs_hidden": true
    },
    "tags": []
   },
   "outputs": [
    {
     "data": {
      "text/plain": [
       "' Q3. Create a python program to compute the electricity bill for a household.\\n     The per-unit charges in rupees are as follows: For the first 100 units, the user will be charged Rs. 4.5 per\\n     unit, for the next 100 units, the user will be charged Rs. 6 per unit, and for the next 100 units, the user will\\n     be charged Rs. 10 per unit, After 300 units and above the user will be charged Rs. 20 per unit.\\n      You are required to take the units of electricity consumed in a month from the user as input.\\n     Your program must pass this test case: when the unit of electricity consumed by the user in a month is\\n      310, the total electricity bill should be 2250.'"
      ]
     },
     "execution_count": 3,
     "metadata": {},
     "output_type": "execute_result"
    }
   ],
   "source": [
    "\"\"\" Q3. Create a python program to compute the electricity bill for a household.\n",
    "     The per-unit charges in rupees are as follows: For the first 100 units, the user will be charged Rs. 4.5 per\n",
    "     unit, for the next 100 units, the user will be charged Rs. 6 per unit, and for the next 100 units, the user will\n",
    "     be charged Rs. 10 per unit, After 300 units and above the user will be charged Rs. 20 per unit.\n",
    "      You are required to take the units of electricity consumed in a month from the user as input.\n",
    "     Your program must pass this test case: when the unit of electricity consumed by the user in a month is\n",
    "      310, the total electricity bill should be 2250.\"\"\""
   ]
  },
  {
   "cell_type": "code",
   "execution_count": 2,
   "id": "55d57ed9-3991-4d68-ae97-e816267a54be",
   "metadata": {},
   "outputs": [
    {
     "name": "stdin",
     "output_type": "stream",
     "text": [
      "enter units consumed in one month 310\n"
     ]
    },
    {
     "name": "stdout",
     "output_type": "stream",
     "text": [
      "your bill is: 2250\n"
     ]
    }
   ],
   "source": [
    "Bill=0\n",
    "unit=int(input(\"enter units consumed in one month\"))\n",
    "if unit<=100:\n",
    "    Bill=100*4.5\n",
    "elif (unit>100) and (unit<=200):\n",
    "     Bill=100*4.5+(unit-100)*6\n",
    "elif (unit>200) and (unit<=300):\n",
    "     Bill=100*4.5+100*6+(unit-200)*10\n",
    "elif unit>300:\n",
    "      \n",
    "        Bill=100*4.5+100*6+100*10+(unit-300)*20\n",
    "print(\"your bill is:\", int(Bill))\n",
    "  \n",
    "\n",
    "   "
   ]
  },
  {
   "cell_type": "code",
   "execution_count": 3,
   "id": "67f2119d-b90f-4d77-b2f0-6042fdc36907",
   "metadata": {},
   "outputs": [],
   "source": [
    "#Q4. Create a list of numbers from 1 to 100. Use for loop and while loop to calculate the cube of each\n",
    "#number and if the cube of that number is divisible by 4 or 5 then append that number in a list and print\n",
    "#that list."
   ]
  },
  {
   "cell_type": "code",
   "execution_count": 7,
   "id": "9df98aeb-491a-4969-86f9-e800f2230b93",
   "metadata": {},
   "outputs": [
    {
     "name": "stdout",
     "output_type": "stream",
     "text": [
      "[2, 4, 5, 6, 8, 10, 12, 14, 15, 16, 18, 20, 22, 24, 25, 26, 28, 30, 32, 34, 35, 36, 38, 40, 42, 44, 45, 46, 48, 50, 52, 54, 55, 56, 58, 60, 62, 64, 65, 66, 68, 70, 72, 74, 75, 76, 78, 80, 82, 84, 85, 86, 88, 90, 92, 94, 95, 96, 98, 100]\n"
     ]
    }
   ],
   "source": [
    "l_cube=[]\n",
    "for i in range(1,101):\n",
    "    cube =i**3\n",
    "    if (cube%4==0) or (cube%5==0):\n",
    "        l_cube.append(i)\n",
    "print (l_cube)    \n",
    "    "
   ]
  },
  {
   "cell_type": "code",
   "execution_count": 2,
   "id": "02c15767-945c-4e14-a15e-0c44b47944e9",
   "metadata": {},
   "outputs": [
    {
     "name": "stdout",
     "output_type": "stream",
     "text": [
      "[2, 4, 5, 6, 8, 10, 12, 14, 15, 16, 18, 20, 22, 24, 25, 26, 28, 30, 32, 34, 35, 36, 38, 40, 42, 44, 45, 46, 48, 50, 52, 54, 55, 56, 58, 60, 62, 64, 65, 66, 68, 70, 72, 74, 75, 76, 78, 80, 82, 84, 85, 86, 88, 90, 92, 94, 95, 96, 98, 100]\n"
     ]
    }
   ],
   "source": [
    "l_cube1=[]\n",
    "j=1\n",
    "\n",
    "while (j in range(1,101)):\n",
    "    cube =j**3\n",
    "    if (cube%4==0) or (cube%5==0):\n",
    "        l_cube1.append(j)\n",
    "    j+=1    \n",
    "print (l_cube1) \n"
   ]
  },
  {
   "cell_type": "code",
   "execution_count": 7,
   "id": "19065c87-9baf-4a5d-9439-1a2b59d24533",
   "metadata": {},
   "outputs": [
    {
     "name": "stdout",
     "output_type": "stream",
     "text": [
      "12\n"
     ]
    }
   ],
   "source": [
    "# Q5. Write a program to filter count vowels in the below-given string.string = \"I want to become a data scientist\"\n",
    "\n",
    "count=0\n",
    "string = \"I want to become a data scientist\"\n",
    "for i in string:\n",
    "    if i in ['a','e','i','o','u','A','E','I','O','U']:\n",
    "         count+=1\n",
    "print(count)\n",
    "\n"
   ]
  },
  {
   "cell_type": "code",
   "execution_count": null,
   "id": "b626bf76-5e9f-4cce-8aab-7671f994c989",
   "metadata": {},
   "outputs": [],
   "source": []
  }
 ],
 "metadata": {
  "kernelspec": {
   "display_name": "Python 3 (ipykernel)",
   "language": "python",
   "name": "python3"
  },
  "language_info": {
   "codemirror_mode": {
    "name": "ipython",
    "version": 3
   },
   "file_extension": ".py",
   "mimetype": "text/x-python",
   "name": "python",
   "nbconvert_exporter": "python",
   "pygments_lexer": "ipython3",
   "version": "3.10.8"
  }
 },
 "nbformat": 4,
 "nbformat_minor": 5
}

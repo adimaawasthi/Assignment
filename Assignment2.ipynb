{
 "cells": [
  {
   "cell_type": "code",
   "execution_count": 1,
   "id": "56f264f0-2036-43ba-9487-c3ccf6f09107",
   "metadata": {},
   "outputs": [],
   "source": [
    "#Q1. Which keyword is used to create a function? Create a function to return a list of odd numbers in the range of 1 to 25."
   ]
  },
  {
   "cell_type": "code",
   "execution_count": 3,
   "id": "a972351f-ac58-416a-b553-219eb05cce7e",
   "metadata": {},
   "outputs": [],
   "source": [
    "# def is the keyword which is used to create a function    "
   ]
  },
  {
   "cell_type": "code",
   "execution_count": 4,
   "id": "4925552f-d22d-447a-87c8-6cffc60393c0",
   "metadata": {},
   "outputs": [],
   "source": [
    "\n",
    "def odd_num():\n",
    "    l=[]\n",
    "    for i in range(1,26):\n",
    "        if i%2!=0:\n",
    "            l.append(i)\n",
    "    return l\n",
    "    "
   ]
  },
  {
   "cell_type": "code",
   "execution_count": 5,
   "id": "9d5e4581-9db5-4aa2-b130-b185b02c51ba",
   "metadata": {},
   "outputs": [
    {
     "data": {
      "text/plain": [
       "[1, 3, 5, 7, 9, 11, 13, 15, 17, 19, 21, 23, 25]"
      ]
     },
     "execution_count": 5,
     "metadata": {},
     "output_type": "execute_result"
    }
   ],
   "source": [
    "odd_num()"
   ]
  },
  {
   "cell_type": "code",
   "execution_count": 6,
   "id": "f70ab093-0a17-4e67-ac0f-d7353d5e8a5a",
   "metadata": {},
   "outputs": [],
   "source": [
    "#Q2. Why *args and **kwargs is used in some functions? Create a function each for *args and **kwargs to demonstrate their use."
   ]
  },
  {
   "cell_type": "code",
   "execution_count": 17,
   "id": "d75d5558-d532-454f-bbc2-cbd823478435",
   "metadata": {},
   "outputs": [],
   "source": [
    "'''In Python *args and **kwargs are used to pass variable number of aruments. \n",
    "*args is non-keyword arguments and is passed as a tuple while **kwargs is keyword arguments and is passed as a dictionary.\n",
    "Here args and kwargs are parameter names which can be replaced by other names.\n",
    "'''\n",
    "\n",
    "# example for *args\n",
    "\n",
    "def avg(*nums):\n",
    "    count=0\n",
    "    Sum=0\n",
    "    for i in nums:\n",
    "        Sum=Sum+i\n",
    "    print(\"average is:\", Sum/len(nums))\n",
    "        \n"
   ]
  },
  {
   "cell_type": "code",
   "execution_count": 18,
   "id": "ad1d2c8a-169f-4e68-9a50-f9022bc1a001",
   "metadata": {},
   "outputs": [
    {
     "name": "stdout",
     "output_type": "stream",
     "text": [
      "average is: 5.5\n"
     ]
    }
   ],
   "source": [
    "avg(1,2,3,4,5,6,7,8,9,10)"
   ]
  },
  {
   "cell_type": "code",
   "execution_count": 4,
   "id": "4184172a-7075-4a9c-a1c0-4a708c4cf6df",
   "metadata": {},
   "outputs": [],
   "source": [
    "# example for *kwargs\n",
    "\n",
    "def employees(**data):\n",
    "    for i, j in data.items():\n",
    "        print(i ,'is', j)\n",
    "        \n",
    "        \n",
    "        \n",
    "   \n",
    "       \n",
    "    \n"
   ]
  },
  {
   "cell_type": "code",
   "execution_count": 5,
   "id": "167c52d1-f6fc-4d7d-a3d6-49595c34acf8",
   "metadata": {},
   "outputs": [
    {
     "name": "stdout",
     "output_type": "stream",
     "text": [
      "employee_name is Amy\n",
      "phone_number is 87786668\n",
      "Dept is A\n",
      "employee_name is John\n",
      "phone_number is 87786668\n",
      "Dept is B\n"
     ]
    }
   ],
   "source": [
    "employees(employee_name='Amy' ,phone_number=87786668,Dept='A')\n",
    "employees(employee_name='John' ,phone_number=87786668,Dept='B')\n"
   ]
  },
  {
   "cell_type": "code",
   "execution_count": 1,
   "id": "347ab741-11e5-4c8e-bc5e-233d7567cc17",
   "metadata": {},
   "outputs": [
    {
     "name": "stdout",
     "output_type": "stream",
     "text": [
      "2\n",
      "4\n",
      "6\n",
      "8\n",
      "10\n"
     ]
    }
   ],
   "source": [
    "'''Q3. What is an iterator in python? Name the method used to initialise the iterator object and the method\n",
    "used for iteration. Use these methods to print the first five elements of the given list [2, 4, 6, 8, 10, 12, 14,\n",
    "16, 18, 20].'''\n",
    "\n",
    "\n",
    "''' iterator is an object that is used to iterate through iterable objects like lists, tuples, dicts etc.\n",
    "   1-  iter() method is used to initialize and iterator object. It returns an iterator object\n",
    "   2- next() method is used  for iteration and it returns the next value of iterable.'''\n",
    "\n",
    "\n",
    "list1=[2,4,6,8,10,12,14,16,18,20]\n",
    "I=iter(list1)\n",
    "for i in range(5):\n",
    "    print (next(I))\n"
   ]
  },
  {
   "cell_type": "code",
   "execution_count": 4,
   "id": "64e060ed-f2a6-45d4-a9cd-20b05aa28e4c",
   "metadata": {},
   "outputs": [],
   "source": [
    "#Q4. What is a generator function in python? Why yield keyword is used? Give an example of a generator function.\n",
    "\n",
    "\n",
    "''' generator function is a special function which returns an iterator object that produces a sequence of values when \n",
    "iterated over. we can define it like normal function using \"def\" keyword but instead of \"return \" statement, \"yield\" is used \n",
    "to generate values'''\n",
    "\n",
    "\n",
    "def fib1():\n",
    "    a,b=0,1\n",
    "    while True:\n",
    "        yield (a)\n",
    "        a,b=b,a+b\n",
    "\n",
    "\n"
   ]
  },
  {
   "cell_type": "code",
   "execution_count": 9,
   "id": "4b344262-0da0-45af-9479-55b09eba69b3",
   "metadata": {},
   "outputs": [
    {
     "name": "stdout",
     "output_type": "stream",
     "text": [
      "0\n",
      "1\n",
      "1\n",
      "2\n",
      "3\n",
      "5\n",
      "8\n",
      "13\n",
      "21\n",
      "34\n"
     ]
    }
   ],
   "source": [
    "Fib=fib1()\n",
    "for i in range(10):\n",
    "     print( next(Fib))"
   ]
  },
  {
   "cell_type": "code",
   "execution_count": 13,
   "id": "2b1c0909-c271-457c-aeee-be6a79492338",
   "metadata": {},
   "outputs": [
    {
     "name": "stdout",
     "output_type": "stream",
     "text": [
      "2\n",
      "3\n",
      "5\n",
      "7\n",
      "11\n",
      "13\n",
      "17\n",
      "19\n",
      "23\n",
      "29\n",
      "31\n",
      "37\n",
      "41\n",
      "43\n",
      "47\n",
      "53\n",
      "59\n",
      "61\n",
      "67\n",
      "71\n"
     ]
    }
   ],
   "source": [
    "#Q5. Create a generator function for prime numbers less than 1000. Use the next() method to print the first 20 prime numbers.\n",
    "\n",
    "\n",
    "def prime_num():\n",
    "    for i in range(2,1000):\n",
    "             for j in range(2,(i//2)+1):\n",
    "                if i%j==0:\n",
    "                    break\n",
    "             else:\n",
    "                    yield i\n",
    "                    \n",
    "PN=prime_num()\n",
    "for num in range (20):\n",
    "    \n",
    "    print(next(PN))\n",
    "\n",
    "\n",
    "\n",
    "\n",
    "\n",
    "                  \n",
    "        \n",
    "        \n",
    "    "
   ]
  },
  {
   "cell_type": "code",
   "execution_count": 16,
   "id": "3a80a98b-26b0-491d-ae9d-9982838badc5",
   "metadata": {},
   "outputs": [
    {
     "name": "stdout",
     "output_type": "stream",
     "text": [
      "0\n",
      "1\n",
      "1\n",
      "2\n",
      "3\n",
      "5\n",
      "8\n",
      "13\n",
      "21\n",
      "34\n"
     ]
    }
   ],
   "source": [
    "#Q6. Write a python program to print the first 10 Fibonacci numbers using a while loop.\n",
    "\n",
    "\n",
    "def fib1():\n",
    "    a,b=0,1\n",
    "    while True:\n",
    "        yield (a)\n",
    "        a,b=b,a+b\n",
    "Fib=fib1()\n",
    "for i in range (10):\n",
    "    print(next(Fib))\n",
    "\n",
    "\n",
    "\n",
    "\n"
   ]
  },
  {
   "cell_type": "code",
   "execution_count": 14,
   "id": "ee3cbf2e-2d6e-4193-ac4a-f2b40949e263",
   "metadata": {},
   "outputs": [
    {
     "name": "stdout",
     "output_type": "stream",
     "text": [
      "['p', 'w', 's', 'k', 'i', 'l', 'l', 's']\n"
     ]
    }
   ],
   "source": [
    "# Q7. Write a List Comprehension to iterate through the given string: ‘pwskills’. Expected output: ['p', 'w', 's', 'k', 'i', 'l', 'l', 's']\n",
    "List= [i for i in \"pwskills\"]\n",
    "print (List)\n",
    "    "
   ]
  },
  {
   "cell_type": "code",
   "execution_count": 19,
   "id": "9b2e3f02-474a-4dd9-9d0e-6381a03d36a0",
   "metadata": {},
   "outputs": [
    {
     "name": "stdin",
     "output_type": "stream",
     "text": [
      "enter a number 124421\n"
     ]
    },
    {
     "name": "stdout",
     "output_type": "stream",
     "text": [
      "given number is palindrome\n"
     ]
    }
   ],
   "source": [
    "# Q8. Write a python program to check whether a given number is Palindrome or not using a while loop.\n",
    "\n",
    "num=int(input(\"enter a number\"))\n",
    "rev=0\n",
    "temp=num\n",
    "while temp>0:\n",
    "    rem=temp%10\n",
    "    rev=rev*10+rem\n",
    "    temp=temp//10\n",
    "if num==rev:\n",
    "    print(\"given number is palindrome\")\n",
    "else:\n",
    "    print(\"given number is not palindrome\")\n",
    "    \n",
    "    \n",
    "\n",
    "    \n",
    "\n",
    "\n",
    "\n",
    "\n"
   ]
  },
  {
   "cell_type": "code",
   "execution_count": 24,
   "id": "cb2d15e2-a57b-4d68-8670-b184c7a495ad",
   "metadata": {},
   "outputs": [
    {
     "name": "stdout",
     "output_type": "stream",
     "text": [
      "[1, 3, 5, 7, 9, 11, 13, 15, 17, 19, 21, 23, 25, 27, 29, 31, 33, 35, 37, 39, 41, 43, 45, 47, 49, 51, 53, 55, 57, 59, 61, 63, 65, 67, 69, 71, 73, 75, 77, 79, 81, 83, 85, 87, 89, 91, 93, 95, 97, 99]\n"
     ]
    }
   ],
   "source": [
    "# Q9. Write a code to print odd numbers from 1 to 100 using list comprehension.\n",
    "\n",
    "# Note: Use a list comprehension to create a list from 1 to 100 and use another List comprehension to filter\n",
    "# out odd numbers.\n",
    "\n",
    "\n",
    "\n",
    "\n",
    "\n",
    "\n",
    "List=[i for i in range(1,100)]\n",
    "List1=[j for j in List if j%2!=0]\n",
    "print(List1)"
   ]
  },
  {
   "cell_type": "code",
   "execution_count": null,
   "id": "7b8ba1be-9028-4895-8eed-8774bace9865",
   "metadata": {},
   "outputs": [],
   "source": []
  }
 ],
 "metadata": {
  "kernelspec": {
   "display_name": "Python 3 (ipykernel)",
   "language": "python",
   "name": "python3"
  },
  "language_info": {
   "codemirror_mode": {
    "name": "ipython",
    "version": 3
   },
   "file_extension": ".py",
   "mimetype": "text/x-python",
   "name": "python",
   "nbconvert_exporter": "python",
   "pygments_lexer": "ipython3",
   "version": "3.10.8"
  }
 },
 "nbformat": 4,
 "nbformat_minor": 5
}
